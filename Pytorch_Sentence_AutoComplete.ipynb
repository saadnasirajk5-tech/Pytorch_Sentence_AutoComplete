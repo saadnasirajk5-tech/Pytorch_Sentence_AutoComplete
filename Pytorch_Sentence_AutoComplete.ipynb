{
  "nbformat": 4,
  "nbformat_minor": 0,
  "metadata": {
    "colab": {
      "provenance": [],
      "gpuType": "T4"
    },
    "kernelspec": {
      "name": "python3",
      "display_name": "Python 3"
    },
    "language_info": {
      "name": "python"
    },
    "accelerator": "GPU"
  },
  "cells": [
    {
      "cell_type": "code",
      "execution_count": 3,
      "metadata": {
        "colab": {
          "base_uri": "https://localhost:8080/"
        },
        "id": "NgRZVUsUkcPB",
        "outputId": "2273831f-0122-4440-fa32-761ef9325aa1"
      },
      "outputs": [
        {
          "output_type": "stream",
          "name": "stdout",
          "text": [
            "Requirement already satisfied: torch in /usr/local/lib/python3.12/dist-packages (2.8.0+cu126)\n",
            "Collecting torchtext\n",
            "  Downloading torchtext-0.18.0-cp312-cp312-manylinux1_x86_64.whl.metadata (7.9 kB)\n",
            "Requirement already satisfied: filelock in /usr/local/lib/python3.12/dist-packages (from torch) (3.20.0)\n",
            "Requirement already satisfied: typing-extensions>=4.10.0 in /usr/local/lib/python3.12/dist-packages (from torch) (4.15.0)\n",
            "Requirement already satisfied: setuptools in /usr/local/lib/python3.12/dist-packages (from torch) (75.2.0)\n",
            "Requirement already satisfied: sympy>=1.13.3 in /usr/local/lib/python3.12/dist-packages (from torch) (1.13.3)\n",
            "Requirement already satisfied: networkx in /usr/local/lib/python3.12/dist-packages (from torch) (3.5)\n",
            "Requirement already satisfied: jinja2 in /usr/local/lib/python3.12/dist-packages (from torch) (3.1.6)\n",
            "Requirement already satisfied: fsspec in /usr/local/lib/python3.12/dist-packages (from torch) (2025.3.0)\n",
            "Requirement already satisfied: nvidia-cuda-nvrtc-cu12==12.6.77 in /usr/local/lib/python3.12/dist-packages (from torch) (12.6.77)\n",
            "Requirement already satisfied: nvidia-cuda-runtime-cu12==12.6.77 in /usr/local/lib/python3.12/dist-packages (from torch) (12.6.77)\n",
            "Requirement already satisfied: nvidia-cuda-cupti-cu12==12.6.80 in /usr/local/lib/python3.12/dist-packages (from torch) (12.6.80)\n",
            "Requirement already satisfied: nvidia-cudnn-cu12==9.10.2.21 in /usr/local/lib/python3.12/dist-packages (from torch) (9.10.2.21)\n",
            "Requirement already satisfied: nvidia-cublas-cu12==12.6.4.1 in /usr/local/lib/python3.12/dist-packages (from torch) (12.6.4.1)\n",
            "Requirement already satisfied: nvidia-cufft-cu12==11.3.0.4 in /usr/local/lib/python3.12/dist-packages (from torch) (11.3.0.4)\n",
            "Requirement already satisfied: nvidia-curand-cu12==10.3.7.77 in /usr/local/lib/python3.12/dist-packages (from torch) (10.3.7.77)\n",
            "Requirement already satisfied: nvidia-cusolver-cu12==11.7.1.2 in /usr/local/lib/python3.12/dist-packages (from torch) (11.7.1.2)\n",
            "Requirement already satisfied: nvidia-cusparse-cu12==12.5.4.2 in /usr/local/lib/python3.12/dist-packages (from torch) (12.5.4.2)\n",
            "Requirement already satisfied: nvidia-cusparselt-cu12==0.7.1 in /usr/local/lib/python3.12/dist-packages (from torch) (0.7.1)\n",
            "Requirement already satisfied: nvidia-nccl-cu12==2.27.3 in /usr/local/lib/python3.12/dist-packages (from torch) (2.27.3)\n",
            "Requirement already satisfied: nvidia-nvtx-cu12==12.6.77 in /usr/local/lib/python3.12/dist-packages (from torch) (12.6.77)\n",
            "Requirement already satisfied: nvidia-nvjitlink-cu12==12.6.85 in /usr/local/lib/python3.12/dist-packages (from torch) (12.6.85)\n",
            "Requirement already satisfied: nvidia-cufile-cu12==1.11.1.6 in /usr/local/lib/python3.12/dist-packages (from torch) (1.11.1.6)\n",
            "Requirement already satisfied: triton==3.4.0 in /usr/local/lib/python3.12/dist-packages (from torch) (3.4.0)\n",
            "Requirement already satisfied: tqdm in /usr/local/lib/python3.12/dist-packages (from torchtext) (4.67.1)\n",
            "Requirement already satisfied: requests in /usr/local/lib/python3.12/dist-packages (from torchtext) (2.32.4)\n",
            "Requirement already satisfied: numpy in /usr/local/lib/python3.12/dist-packages (from torchtext) (2.0.2)\n",
            "Requirement already satisfied: mpmath<1.4,>=1.1.0 in /usr/local/lib/python3.12/dist-packages (from sympy>=1.13.3->torch) (1.3.0)\n",
            "Requirement already satisfied: MarkupSafe>=2.0 in /usr/local/lib/python3.12/dist-packages (from jinja2->torch) (3.0.3)\n",
            "Requirement already satisfied: charset_normalizer<4,>=2 in /usr/local/lib/python3.12/dist-packages (from requests->torchtext) (3.4.4)\n",
            "Requirement already satisfied: idna<4,>=2.5 in /usr/local/lib/python3.12/dist-packages (from requests->torchtext) (3.11)\n",
            "Requirement already satisfied: urllib3<3,>=1.21.1 in /usr/local/lib/python3.12/dist-packages (from requests->torchtext) (2.5.0)\n",
            "Requirement already satisfied: certifi>=2017.4.17 in /usr/local/lib/python3.12/dist-packages (from requests->torchtext) (2025.10.5)\n",
            "Downloading torchtext-0.18.0-cp312-cp312-manylinux1_x86_64.whl (2.0 MB)\n",
            "\u001b[2K   \u001b[90m━━━━━━━━━━━━━━━━━━━━━━━━━━━━━━━━━━━━━━━━\u001b[0m \u001b[32m2.0/2.0 MB\u001b[0m \u001b[31m42.7 MB/s\u001b[0m eta \u001b[36m0:00:00\u001b[0m\n",
            "\u001b[?25hInstalling collected packages: torchtext\n",
            "Successfully installed torchtext-0.18.0\n"
          ]
        }
      ],
      "source": [
        "# Install required packages\n",
        "!pip install torch torchtext\n",
        "\n",
        "# Import libraries\n",
        "import torch\n",
        "import torch.nn as nn\n",
        "import torch.optim as optim\n",
        "from torch.utils.data import Dataset, DataLoader\n",
        "import numpy as np\n",
        "import re\n",
        "from collections import Counter\n",
        "import pickle"
      ]
    },
    {
      "cell_type": "code",
      "source": [
        "# Download Shakespeare text (or any text corpus)\n",
        "!wget https://storage.googleapis.com/download.tensorflow.org/data/shakespeare.txt\n",
        "\n",
        "# Read the text file\n",
        "with open('shakespeare.txt', 'r', encoding='utf-8') as f:\n",
        "    text = f.read().lower()\n",
        "\n",
        "# Show first 500 characters\n",
        "print(text[:500])\n",
        "print(f\"\\nTotal characters: {len(text)}\")"
      ],
      "metadata": {
        "colab": {
          "base_uri": "https://localhost:8080/"
        },
        "id": "1DECbUsGke1B",
        "outputId": "e4491c35-7a66-4d3c-dbd3-031860e3295d"
      },
      "execution_count": 4,
      "outputs": [
        {
          "output_type": "stream",
          "name": "stdout",
          "text": [
            "--2025-10-25 13:48:21--  https://storage.googleapis.com/download.tensorflow.org/data/shakespeare.txt\n",
            "Resolving storage.googleapis.com (storage.googleapis.com)... 142.250.141.207, 142.251.2.207, 74.125.137.207, ...\n",
            "Connecting to storage.googleapis.com (storage.googleapis.com)|142.250.141.207|:443... connected.\n",
            "HTTP request sent, awaiting response... 200 OK\n",
            "Length: 1115394 (1.1M) [text/plain]\n",
            "Saving to: ‘shakespeare.txt’\n",
            "\n",
            "\rshakespeare.txt       0%[                    ]       0  --.-KB/s               \rshakespeare.txt     100%[===================>]   1.06M  --.-KB/s    in 0.005s  \n",
            "\n",
            "2025-10-25 13:48:21 (196 MB/s) - ‘shakespeare.txt’ saved [1115394/1115394]\n",
            "\n",
            "first citizen:\n",
            "before we proceed any further, hear me speak.\n",
            "\n",
            "all:\n",
            "speak, speak.\n",
            "\n",
            "first citizen:\n",
            "you are all resolved rather to die than to famish?\n",
            "\n",
            "all:\n",
            "resolved. resolved.\n",
            "\n",
            "first citizen:\n",
            "first, you know caius marcius is chief enemy to the people.\n",
            "\n",
            "all:\n",
            "we know't, we know't.\n",
            "\n",
            "first citizen:\n",
            "let us kill him, and we'll have corn at our own price.\n",
            "is't a verdict?\n",
            "\n",
            "all:\n",
            "no more talking on't; let it be done: away, away!\n",
            "\n",
            "second citizen:\n",
            "one word, good citizens.\n",
            "\n",
            "first citizen:\n",
            "we are accounted poor\n",
            "\n",
            "Total characters: 1115394\n"
          ]
        }
      ]
    },
    {
      "cell_type": "markdown",
      "source": [
        "**Cleaning and Preprocessing Text**"
      ],
      "metadata": {
        "id": "-9g_sPhfnNka"
      }
    },
    {
      "cell_type": "code",
      "source": [
        "## Cleaning the text and special characters and keeping only letters and spaces\n",
        "text = re.sub(r'[^-zA-Z\\s]','',text)\n",
        "# Splitting into sentences\n",
        "sentences = [s.strip() for s in text.split('\\n') if len(s.strip())>0]\n",
        "print(f\"Total sentences: {len(sentences)}\")\n",
        "print(\"Sample sentences\")\n",
        "for i in range(3):\n",
        "  print(f\"{i+1}.{sentences[i]}\")"
      ],
      "metadata": {
        "colab": {
          "base_uri": "https://localhost:8080/"
        },
        "id": "o-mf-CmBkeyK",
        "outputId": "326d19c0-2626-4bde-e717-0b2c3115cbfd"
      },
      "execution_count": 5,
      "outputs": [
        {
          "output_type": "stream",
          "name": "stdout",
          "text": [
            "Total sentences: 1870\n",
            "Sample sentences\n",
            "1.z\n",
            "2.z\n",
            "3.z\n"
          ]
        }
      ]
    },
    {
      "cell_type": "markdown",
      "source": [
        "**Building Vocabulary**"
      ],
      "metadata": {
        "id": "7WlvjFkwnSsY"
      }
    },
    {
      "cell_type": "code",
      "source": [
        "# Tokeninzing\n",
        "all_words = []\n",
        "for sentence in sentences:\n",
        "   words = sentence.split()\n",
        "   all_words.extend(words)\n",
        "\n",
        "# Counting word frequencies\n"
      ],
      "metadata": {
        "id": "eWturFzFkeu6"
      },
      "execution_count": 6,
      "outputs": []
    },
    {
      "cell_type": "code",
      "source": [
        "word_counts = Counter(all_words)\n",
        "print(f\"Total words: {len(all_words)}\")\n",
        "print(f\"Unique words: {len(word_counts)}\")"
      ],
      "metadata": {
        "colab": {
          "base_uri": "https://localhost:8080/"
        },
        "id": "4C41wJT1kesZ",
        "outputId": "99a8db9e-7ef7-4b8a-e3d9-b042106a2ac2"
      },
      "execution_count": 7,
      "outputs": [
        {
          "output_type": "stream",
          "name": "stdout",
          "text": [
            "Total words: 1954\n",
            "Unique words: 9\n"
          ]
        }
      ]
    },
    {
      "cell_type": "code",
      "source": [
        "# Creating vocabolary - mapping each word to  aunique vector\n",
        "vocab = ['<PAD>','<UNK>'] + [word for word , count in word_counts.most_common()]\n",
        "word_to_idx = {word: idx for idx, word in enumerate(vocab)}\n",
        "idx_to_word = {idx:word for word,idx in word_to_idx.items()}\n",
        "\n",
        "vocab_size = len(vocab)\n",
        "print(f\"Vocabulary size: {vocab_size}\")\n",
        "\n",
        "# Show some word mappings\n",
        "print(\"\\nSample word to index mappings:\")\n",
        "for word in list(word_to_idx.keys())[:10]:\n",
        "    print(f\"{word} -> {word_to_idx[word]}\")\n",
        "\n"
      ],
      "metadata": {
        "colab": {
          "base_uri": "https://localhost:8080/"
        },
        "id": "5Kr4kgJCkepi",
        "outputId": "70a17b1a-cfe8-45aa-a725-a6ee9a414ab5"
      },
      "execution_count": 8,
      "outputs": [
        {
          "output_type": "stream",
          "name": "stdout",
          "text": [
            "Vocabulary size: 11\n",
            "\n",
            "Sample word to index mappings:\n",
            "<PAD> -> 0\n",
            "<UNK> -> 1\n",
            "- -> 2\n",
            "z -> 3\n",
            "-- -> 4\n",
            "zz -> 5\n",
            "--- -> 6\n",
            "z- -> 7\n",
            "-z -> 8\n",
            "---- -> 9\n"
          ]
        }
      ]
    },
    {
      "cell_type": "markdown",
      "source": [
        "**Creating training sequences**"
      ],
      "metadata": {
        "id": "sSx8RjcDrBTA"
      }
    },
    {
      "cell_type": "code",
      "source": [
        "input_sequences = []\n",
        "target_words = []\n",
        "\n",
        "for sentence in sentences:\n",
        "  words = sentence.split()\n",
        "\n",
        "  for i in range(1, len(words)):\n",
        "    input_seq = words[:i]\n",
        "    target = words[i]\n",
        "\n",
        "    input_sequences.append(input_seq)\n",
        "    target_words.append(target)\n",
        "print(f\"Total training examples: {len(input_sequences)}\")\n",
        "print(\"\\nFirst 5 examples:\")\n",
        "for i in range(5):\n",
        "    print(f\"Input: {input_sequences[i]} -> Target: {target_words[i]}\")\n"
      ],
      "metadata": {
        "colab": {
          "base_uri": "https://localhost:8080/"
        },
        "id": "csJY6oPukemr",
        "outputId": "06b4eaa2-7a27-46ac-d193-699dc6936004"
      },
      "execution_count": 9,
      "outputs": [
        {
          "output_type": "stream",
          "name": "stdout",
          "text": [
            "Total training examples: 84\n",
            "\n",
            "First 5 examples:\n",
            "Input: ['--'] -> Target: --\n",
            "Input: ['--'] -> Target: --\n",
            "Input: ['--'] -> Target: --\n",
            "Input: ['--'] -> Target: --\n",
            "Input: ['-'] -> Target: --\n"
          ]
        }
      ]
    },
    {
      "cell_type": "markdown",
      "source": [
        "*Converting words to numbers and pad sequences*"
      ],
      "metadata": {
        "id": "3-z7QFGEw8e-"
      }
    },
    {
      "cell_type": "code",
      "source": [
        "# Converting words to indices (numbers)\n",
        "def words_to_indices(word_list, word_to_idx):\n",
        "    return [word_to_idx.get(word, word_to_idx['<UNK>']) for word in word_list]\n"
      ],
      "metadata": {
        "id": "sdkv6U1PkehZ"
      },
      "execution_count": 11,
      "outputs": []
    },
    {
      "cell_type": "code",
      "source": [
        "# Converting all sequences to numbers\n",
        "input_indices = [words_to_indices(seq, word_to_idx) for seq in input_sequences]\n",
        "target_indices = [word_to_idx.get(word, word_to_idx['<UNK>']) for word in target_words]"
      ],
      "metadata": {
        "id": "KO6dTVgGkeeq"
      },
      "execution_count": 16,
      "outputs": []
    },
    {
      "cell_type": "code",
      "source": [
        "# Finding the longest sequence\n",
        "max_len = max(len(seq) for seq in input_indices)\n",
        "print(f\"Maximum sequence length: {max_len}\")"
      ],
      "metadata": {
        "colab": {
          "base_uri": "https://localhost:8080/"
        },
        "id": "BMRkqybbxlAm",
        "outputId": "51828813-f14b-40db-c197-2ea9eba439b9"
      },
      "execution_count": 17,
      "outputs": [
        {
          "output_type": "stream",
          "name": "stdout",
          "text": [
            "Maximum sequence length: 2\n"
          ]
        }
      ]
    },
    {
      "cell_type": "code",
      "source": [
        "# padding sequences by adding zeros\n",
        "def pad_sequence(sequence, max_len, pad_value=0):\n",
        "  padded = [pad_value] * max_len\n",
        "  padded[-len(sequence):] = sequence # Rightaligning the sequecne\n",
        "  return padded\n",
        "padded_inputs = [pad_sequence(seq, max_len) for seq in input_indices]\n",
        "\n",
        "print(f\"\\nExample of padding:\")\n",
        "print(f\"Original: {input_indices[10]}\")\n",
        "print(f\"Padded: {padded_inputs[10]}\")"
      ],
      "metadata": {
        "colab": {
          "base_uri": "https://localhost:8080/"
        },
        "id": "FZLPvubixk9W",
        "outputId": "58b57b07-88fa-4f05-cf95-d75657cad066"
      },
      "execution_count": 18,
      "outputs": [
        {
          "output_type": "stream",
          "name": "stdout",
          "text": [
            "\n",
            "Example of padding:\n",
            "Original: [4]\n",
            "Padded: [0, 4]\n"
          ]
        }
      ]
    },
    {
      "cell_type": "markdown",
      "source": [
        "**Creating Pytorch Dataset**"
      ],
      "metadata": {
        "id": "oTmSonbO0PHN"
      }
    },
    {
      "cell_type": "code",
      "source": [
        "# Custom Dataset class for PyTorch\n",
        "class TextDataset(Dataset):\n",
        "    def __init__(self, inputs, targets):\n",
        "        self.inputs = torch.LongTensor(inputs)  # Convert to PyTorch tensors\n",
        "        self.targets = torch.LongTensor(targets)\n",
        "\n",
        "    def __len__(self):\n",
        "        return len(self.inputs)\n",
        "\n",
        "    def __getitem__(self, idx):\n",
        "        return self.inputs[idx], self.targets[idx]\n",
        "\n",
        "# Create dataset\n",
        "dataset = TextDataset(padded_inputs, target_indices)\n",
        "\n",
        "# Create DataLoader - handles batching and shuffling\n",
        "batch_size = 64\n",
        "dataloader = DataLoader(dataset, batch_size=batch_size, shuffle=True)\n",
        "\n",
        "print(f\"Dataset size: {len(dataset)}\")\n",
        "print(f\"Number of batches: {len(dataloader)}\")\n"
      ],
      "metadata": {
        "colab": {
          "base_uri": "https://localhost:8080/"
        },
        "id": "XCvgyaNLxk6G",
        "outputId": "b693131f-b9c3-434b-bd7d-71d79f254669"
      },
      "execution_count": 22,
      "outputs": [
        {
          "output_type": "stream",
          "name": "stdout",
          "text": [
            "Dataset size: 84\n",
            "Number of batches: 2\n"
          ]
        }
      ]
    },
    {
      "cell_type": "code",
      "source": [
        "# Define the neural network architecture\n",
        "class NextWordLSTM(nn.Module):\n",
        "    def __init__(self, vocab_size, embedding_dim, hidden_dim, num_layers):\n",
        "        super(NextWordLSTM, self).__init__()\n",
        "\n",
        "        # Embedding layer - converts word indices to dense vectors\n",
        "        self.embedding = nn.Embedding(vocab_size, embedding_dim, padding_idx=0)\n",
        "\n",
        "        # LSTM layer - processes sequences and remembers context\n",
        "        self.lstm = nn.LSTM(embedding_dim, hidden_dim, num_layers,\n",
        "                           batch_first=True, dropout=0.2)\n",
        "\n",
        "        # Fully connected layer - produces predictions\n",
        "        self.fc = nn.Linear(hidden_dim, vocab_size)\n",
        "\n",
        "    def forward(self, x):\n",
        "        # x shape: (batch_size, sequence_length)\n",
        "\n",
        "        # Embed words: (batch_size, seq_len, embedding_dim)\n",
        "        embedded = self.embedding(x)\n",
        "\n",
        "        # LSTM processing: output shape (batch_size, seq_len, hidden_dim)\n",
        "        lstm_out, _ = self.lstm(embedded)\n",
        "\n",
        "        # Take only the last time step's output\n",
        "        last_output = lstm_out[:, -1, :]  # (batch_size, hidden_dim)\n",
        "\n",
        "        # Predict next word: (batch_size, vocab_size)\n",
        "        predictions = self.fc(last_output)\n",
        "\n",
        "        return predictions\n",
        "\n",
        "# Set hyperparameters\n",
        "embedding_dim = 100  # Size of word embeddings\n",
        "hidden_dim = 256     # Size of LSTM hidden state\n",
        "num_layers = 2       # Number of LSTM layers stacked\n",
        "\n",
        "# Create model\n",
        "model = NextWordLSTM(vocab_size, embedding_dim, hidden_dim, num_layers)\n",
        "\n",
        "# Check if GPU is available\n",
        "device = torch.device('cuda' if torch.cuda.is_available() else 'cpu')\n",
        "model = model.to(device)\n",
        "\n",
        "print(f\"Using device: {device}\")\n",
        "print(f\"\\nModel architecture:\")\n",
        "print(model)\n",
        "\n",
        "# Count parameters\n",
        "total_params = sum(p.numel() for p in model.parameters())\n",
        "print(f\"\\nTotal parameters: {total_params:,}\")"
      ],
      "metadata": {
        "colab": {
          "base_uri": "https://localhost:8080/"
        },
        "id": "X2Q2XbnKxk3X",
        "outputId": "6b3f1ffb-0863-49b0-d985-ffd49a05ec8d"
      },
      "execution_count": 23,
      "outputs": [
        {
          "output_type": "stream",
          "name": "stdout",
          "text": [
            "Using device: cuda\n",
            "\n",
            "Model architecture:\n",
            "NextWordLSTM(\n",
            "  (embedding): Embedding(11, 100, padding_idx=0)\n",
            "  (lstm): LSTM(100, 256, num_layers=2, batch_first=True, dropout=0.2)\n",
            "  (fc): Linear(in_features=256, out_features=11, bias=True)\n",
            ")\n",
            "\n",
            "Total parameters: 896,855\n"
          ]
        }
      ]
    },
    {
      "cell_type": "code",
      "source": [
        "# Loss function - measures how wrong our predictions are\n",
        "criterion = nn.CrossEntropyLoss()\n",
        "\n",
        "# Optimizer - updates model weights to reduce loss\n",
        "optimizer = optim.Adam(model.parameters(), lr=0.001)"
      ],
      "metadata": {
        "id": "GkTZZV-Oxk0i"
      },
      "execution_count": 24,
      "outputs": []
    },
    {
      "cell_type": "code",
      "source": [
        "# Training loop\n",
        "num_epochs = 20\n",
        "train_losses = []\n",
        "\n",
        "print(\"Starting training...\\n\")\n",
        "\n",
        "for epoch in range(num_epochs):\n",
        "    model.train()  # Set model to training mode\n",
        "    epoch_loss = 0\n",
        "\n",
        "    for batch_idx, (inputs, targets) in enumerate(dataloader):\n",
        "        # Move data to device (GPU/CPU)\n",
        "        inputs = inputs.to(device)\n",
        "        targets = targets.to(device)\n",
        "\n",
        "        # Forward pass - get predictions\n",
        "        outputs = model(inputs)\n",
        "\n",
        "        # Calculate loss\n",
        "        loss = criterion(outputs, targets)\n",
        "\n",
        "        # Backward pass - calculate gradients\n",
        "        optimizer.zero_grad()  # Clear previous gradients\n",
        "        loss.backward()        # Compute new gradients\n",
        "\n",
        "        # Update weights\n",
        "        optimizer.step()\n",
        "\n",
        "        epoch_loss += loss.item()\n",
        "\n",
        "    # Calculate average loss for this epoch\n",
        "    avg_loss = epoch_loss / len(dataloader)\n",
        "    train_losses.append(avg_loss)\n",
        "\n",
        "    print(f\"Epoch [{epoch+1}/{num_epochs}], Loss: {avg_loss:.4f}\")\n",
        "\n",
        "print(\"\\nTraining complete!\")"
      ],
      "metadata": {
        "colab": {
          "base_uri": "https://localhost:8080/"
        },
        "id": "eUTjg1OyxkxX",
        "outputId": "98c5e276-66b1-4778-f650-9bf855c9cf7f"
      },
      "execution_count": 25,
      "outputs": [
        {
          "output_type": "stream",
          "name": "stdout",
          "text": [
            "Starting training...\n",
            "\n",
            "Epoch [1/20], Loss: 2.3441\n",
            "Epoch [2/20], Loss: 2.2411\n",
            "Epoch [3/20], Loss: 2.0593\n",
            "Epoch [4/20], Loss: 1.8503\n",
            "Epoch [5/20], Loss: 1.6313\n",
            "Epoch [6/20], Loss: 1.2045\n",
            "Epoch [7/20], Loss: 1.0374\n",
            "Epoch [8/20], Loss: 0.6423\n",
            "Epoch [9/20], Loss: 0.6890\n",
            "Epoch [10/20], Loss: 0.6069\n",
            "Epoch [11/20], Loss: 0.6462\n",
            "Epoch [12/20], Loss: 0.5057\n",
            "Epoch [13/20], Loss: 0.7285\n",
            "Epoch [14/20], Loss: 0.8469\n",
            "Epoch [15/20], Loss: 0.5715\n",
            "Epoch [16/20], Loss: 0.6718\n",
            "Epoch [17/20], Loss: 0.4936\n",
            "Epoch [18/20], Loss: 0.6528\n",
            "Epoch [19/20], Loss: 0.5175\n",
            "Epoch [20/20], Loss: 0.4498\n",
            "\n",
            "Training complete!\n"
          ]
        }
      ]
    },
    {
      "cell_type": "code",
      "source": [
        "def predict_next_words(model, seed_text, word_to_idx, idx_to_word, max_len, num_words=3):\n",
        "    model.eval()  # Set to evaluation mode\n",
        "\n",
        "    result = seed_text\n",
        "    words = seed_text.split()\n",
        "\n",
        "    with torch.no_grad():  # Don't calculate gradients during prediction\n",
        "        for _ in range(num_words):\n",
        "            # Convert words to indices\n",
        "            indices = words_to_indices(words, word_to_idx)\n",
        "\n",
        "            # Pad the sequence\n",
        "            padded = pad_sequence(indices, max_len)\n",
        "\n",
        "            # Convert to tensor\n",
        "            input_tensor = torch.LongTensor([padded]).to(device)\n",
        "\n",
        "            # Get prediction\n",
        "            output = model(input_tensor)\n",
        "\n",
        "            # Get the word with highest probability\n",
        "            predicted_idx = torch.argmax(output, dim=1).item()\n",
        "\n",
        "            # Convert index back to word\n",
        "            predicted_word = idx_to_word[predicted_idx]\n",
        "\n",
        "            # Add to result\n",
        "            result += \" \" + predicted_word\n",
        "            words.append(predicted_word)\n",
        "\n",
        "    return result\n",
        "\n",
        "# Test the model\n",
        "test_sentences = [\n",
        "    \"to be or\",\n",
        "    \"what is\",\n",
        "    \"i love\"\n",
        "]\n",
        "\n",
        "print(\"\\n--- Model Predictions ---\\n\")\n",
        "for sentence in test_sentences:\n",
        "    prediction = predict_next_words(model, sentence, word_to_idx, idx_to_word, max_len, num_words=5)\n",
        "    print(f\"Input: '{sentence}'\")\n",
        "    print(f\"Output: '{prediction}'\")\n",
        "    print()"
      ],
      "metadata": {
        "colab": {
          "base_uri": "https://localhost:8080/"
        },
        "id": "18xQvXRrxkuQ",
        "outputId": "3bafe989-db63-46d8-b506-652b4244d8a0"
      },
      "execution_count": 26,
      "outputs": [
        {
          "output_type": "stream",
          "name": "stdout",
          "text": [
            "\n",
            "--- Model Predictions ---\n",
            "\n",
            "Input: 'to be or'\n",
            "Output: 'to be or -- -- -- -- --'\n",
            "\n",
            "Input: 'what is'\n",
            "Output: 'what is -- -- -- -- --'\n",
            "\n",
            "Input: 'i love'\n",
            "Output: 'i love -- -- -- -- --'\n",
            "\n"
          ]
        }
      ]
    },
    {
      "cell_type": "code",
      "source": [
        "# Save model weights\n",
        "torch.save(model.state_dict(), 'next_word_lstm_pytorch.pth')\n",
        "\n",
        "# Save vocabulary\n",
        "with open('vocab.pkl', 'wb') as f:\n",
        "    pickle.dump({\n",
        "        'word_to_idx': word_to_idx,\n",
        "        'idx_to_word': idx_to_word,\n",
        "        'max_len': max_len\n",
        "    }, f)\n",
        "\n",
        "print(\"Model and vocabulary saved!\")"
      ],
      "metadata": {
        "colab": {
          "base_uri": "https://localhost:8080/"
        },
        "id": "jXw2Ocx-xkrO",
        "outputId": "710f1d43-00ef-485d-9ba9-25f28fb1fa20"
      },
      "execution_count": 27,
      "outputs": [
        {
          "output_type": "stream",
          "name": "stdout",
          "text": [
            "Model and vocabulary saved!\n"
          ]
        }
      ]
    },
    {
      "cell_type": "code",
      "source": [
        "import matplotlib.pyplot as plt\n",
        "\n",
        "plt.figure(figsize=(10, 5))\n",
        "plt.plot(train_losses, label='Training Loss')\n",
        "plt.xlabel('Epoch')\n",
        "plt.ylabel('Loss')\n",
        "plt.title('Training Loss Over Time')\n",
        "plt.legend()\n",
        "plt.grid(True)\n",
        "plt.show()"
      ],
      "metadata": {
        "colab": {
          "base_uri": "https://localhost:8080/",
          "height": 487
        },
        "id": "Nj61ihraxkoO",
        "outputId": "401fca8d-6d59-47cb-91d1-1c5f2b529137"
      },
      "execution_count": 28,
      "outputs": [
        {
          "output_type": "display_data",
          "data": {
            "text/plain": [
              "<Figure size 1000x500 with 1 Axes>"
            ],
            "image/png": "[encoded data removed]"
          },
          "metadata": {}
        }
      ]
    },
    {
      "cell_type": "code",
      "source": [
        "!pip install gradio\n",
        "\n",
        "import gradio as gr\n",
        "\n",
        "def autocomplete_interface(text, num_words):\n",
        "    return predict_next_words(model, text, word_to_idx, idx_to_word, max_len, int(num_words))\n",
        "\n",
        "interface = gr.Interface(\n",
        "    fn=autocomplete_interface,\n",
        "    inputs=[\n",
        "        gr.Textbox(label=\"Enter seed text\", placeholder=\"to be or not\"),\n",
        "        gr.Slider(1, 10, value=3, step=1, label=\"Number of words to predict\")\n",
        "    ],\n",
        "    outputs=gr.Textbox(label=\"Predicted sentence\"),\n",
        "    title=\"🤖 Next Word Prediction with PyTorch LSTM\",\n",
        "    description=\"Enter some text and watch the AI complete your sentence!\"\n",
        ")\n",
        "\n",
        "interface.launch()"
      ],
      "metadata": {
        "colab": {
          "base_uri": "https://localhost:8080/",
          "height": 1000
        },
        "id": "E8wizMKkxklO",
        "outputId": "2d35b041-ed3c-46cb-c12c-28fc1a05be49"
      },
      "execution_count": 29,
      "outputs": [
        {
          "output_type": "stream",
          "name": "stdout",
          "text": [
            "Requirement already satisfied: gradio in /usr/local/lib/python3.12/dist-packages (5.49.1)\n",
            "Requirement already satisfied: aiofiles<25.0,>=22.0 in /usr/local/lib/python3.12/dist-packages (from gradio) (24.1.0)\n",
            "Requirement already satisfied: anyio<5.0,>=3.0 in /usr/local/lib/python3.12/dist-packages (from gradio) (4.11.0)\n",
            "Requirement already satisfied: brotli>=1.1.0 in /usr/local/lib/python3.12/dist-packages (from gradio) (1.1.0)\n",
            "Requirement already satisfied: fastapi<1.0,>=0.115.2 in /usr/local/lib/python3.12/dist-packages (from gradio) (0.119.1)\n",
            "Requirement already satisfied: ffmpy in /usr/local/lib/python3.12/dist-packages (from gradio) (0.6.3)\n",
            "Requirement already satisfied: gradio-client==1.13.3 in /usr/local/lib/python3.12/dist-packages (from gradio) (1.13.3)\n",
            "Requirement already satisfied: groovy~=0.1 in /usr/local/lib/python3.12/dist-packages (from gradio) (0.1.2)\n",
            "Requirement already satisfied: httpx<1.0,>=0.24.1 in /usr/local/lib/python3.12/dist-packages (from gradio) (0.28.1)\n",
            "Requirement already satisfied: huggingface-hub<2.0,>=0.33.5 in /usr/local/lib/python3.12/dist-packages (from gradio) (0.35.3)\n",
            "Requirement already satisfied: jinja2<4.0 in /usr/local/lib/python3.12/dist-packages (from gradio) (3.1.6)\n",
            "Requirement already satisfied: markupsafe<4.0,>=2.0 in /usr/local/lib/python3.12/dist-packages (from gradio) (3.0.3)\n",
            "Requirement already satisfied: numpy<3.0,>=1.0 in /usr/local/lib/python3.12/dist-packages (from gradio) (2.0.2)\n",
            "Requirement already satisfied: orjson~=3.0 in /usr/local/lib/python3.12/dist-packages (from gradio) (3.11.3)\n",
            "Requirement already satisfied: packaging in /usr/local/lib/python3.12/dist-packages (from gradio) (25.0)\n",
            "Requirement already satisfied: pandas<3.0,>=1.0 in /usr/local/lib/python3.12/dist-packages (from gradio) (2.2.2)\n",
            "Requirement already satisfied: pillow<12.0,>=8.0 in /usr/local/lib/python3.12/dist-packages (from gradio) (11.3.0)\n",
            "Requirement already satisfied: pydantic<2.12,>=2.0 in /usr/local/lib/python3.12/dist-packages (from gradio) (2.11.10)\n",
            "Requirement already satisfied: pydub in /usr/local/lib/python3.12/dist-packages (from gradio) (0.25.1)\n",
            "Requirement already satisfied: python-multipart>=0.0.18 in /usr/local/lib/python3.12/dist-packages (from gradio) (0.0.20)\n",
            "Requirement already satisfied: pyyaml<7.0,>=5.0 in /usr/local/lib/python3.12/dist-packages (from gradio) (6.0.3)\n",
            "Requirement already satisfied: ruff>=0.9.3 in /usr/local/lib/python3.12/dist-packages (from gradio) (0.14.1)\n",
            "Requirement already satisfied: safehttpx<0.2.0,>=0.1.6 in /usr/local/lib/python3.12/dist-packages (from gradio) (0.1.6)\n",
            "Requirement already satisfied: semantic-version~=2.0 in /usr/local/lib/python3.12/dist-packages (from gradio) (2.10.0)\n",
            "Requirement already satisfied: starlette<1.0,>=0.40.0 in /usr/local/lib/python3.12/dist-packages (from gradio) (0.48.0)\n",
            "Requirement already satisfied: tomlkit<0.14.0,>=0.12.0 in /usr/local/lib/python3.12/dist-packages (from gradio) (0.13.3)\n",
            "Requirement already satisfied: typer<1.0,>=0.12 in /usr/local/lib/python3.12/dist-packages (from gradio) (0.20.0)\n",
            "Requirement already satisfied: typing-extensions~=4.0 in /usr/local/lib/python3.12/dist-packages (from gradio) (4.15.0)\n",
            "Requirement already satisfied: uvicorn>=0.14.0 in /usr/local/lib/python3.12/dist-packages (from gradio) (0.38.0)\n",
            "Requirement already satisfied: fsspec in /usr/local/lib/python3.12/dist-packages (from gradio-client==1.13.3->gradio) (2025.3.0)\n",
            "Requirement already satisfied: websockets<16.0,>=13.0 in /usr/local/lib/python3.12/dist-packages (from gradio-client==1.13.3->gradio) (15.0.1)\n",
            "Requirement already satisfied: idna>=2.8 in /usr/local/lib/python3.12/dist-packages (from anyio<5.0,>=3.0->gradio) (3.11)\n",
            "Requirement already satisfied: sniffio>=1.1 in /usr/local/lib/python3.12/dist-packages (from anyio<5.0,>=3.0->gradio) (1.3.1)\n",
            "Requirement already satisfied: certifi in /usr/local/lib/python3.12/dist-packages (from httpx<1.0,>=0.24.1->gradio) (2025.10.5)\n",
            "Requirement already satisfied: httpcore==1.* in /usr/local/lib/python3.12/dist-packages (from httpx<1.0,>=0.24.1->gradio) (1.0.9)\n",
            "Requirement already satisfied: h11>=0.16 in /usr/local/lib/python3.12/dist-packages (from httpcore==1.*->httpx<1.0,>=0.24.1->gradio) (0.16.0)\n",
            "Requirement already satisfied: filelock in /usr/local/lib/python3.12/dist-packages (from huggingface-hub<2.0,>=0.33.5->gradio) (3.20.0)\n",
            "Requirement already satisfied: requests in /usr/local/lib/python3.12/dist-packages (from huggingface-hub<2.0,>=0.33.5->gradio) (2.32.4)\n",
            "Requirement already satisfied: tqdm>=4.42.1 in /usr/local/lib/python3.12/dist-packages (from huggingface-hub<2.0,>=0.33.5->gradio) (4.67.1)\n",
            "Requirement already satisfied: hf-xet<2.0.0,>=1.1.3 in /usr/local/lib/python3.12/dist-packages (from huggingface-hub<2.0,>=0.33.5->gradio) (1.1.10)\n",
            "Requirement already satisfied: python-dateutil>=2.8.2 in /usr/local/lib/python3.12/dist-packages (from pandas<3.0,>=1.0->gradio) (2.9.0.post0)\n",
            "Requirement already satisfied: pytz>=2020.1 in /usr/local/lib/python3.12/dist-packages (from pandas<3.0,>=1.0->gradio) (2025.2)\n",
            "Requirement already satisfied: tzdata>=2022.7 in /usr/local/lib/python3.12/dist-packages (from pandas<3.0,>=1.0->gradio) (2025.2)\n",
            "Requirement already satisfied: annotated-types>=0.6.0 in /usr/local/lib/python3.12/dist-packages (from pydantic<2.12,>=2.0->gradio) (0.7.0)\n",
            "Requirement already satisfied: pydantic-core==2.33.2 in /usr/local/lib/python3.12/dist-packages (from pydantic<2.12,>=2.0->gradio) (2.33.2)\n",
            "Requirement already satisfied: typing-inspection>=0.4.0 in /usr/local/lib/python3.12/dist-packages (from pydantic<2.12,>=2.0->gradio) (0.4.2)\n",
            "Requirement already satisfied: click>=8.0.0 in /usr/local/lib/python3.12/dist-packages (from typer<1.0,>=0.12->gradio) (8.3.0)\n",
            "Requirement already satisfied: shellingham>=1.3.0 in /usr/local/lib/python3.12/dist-packages (from typer<1.0,>=0.12->gradio) (1.5.4)\n",
            "Requirement already satisfied: rich>=10.11.0 in /usr/local/lib/python3.12/dist-packages (from typer<1.0,>=0.12->gradio) (13.9.4)\n",
            "Requirement already satisfied: six>=1.5 in /usr/local/lib/python3.12/dist-packages (from python-dateutil>=2.8.2->pandas<3.0,>=1.0->gradio) (1.17.0)\n",
            "Requirement already satisfied: markdown-it-py>=2.2.0 in /usr/local/lib/python3.12/dist-packages (from rich>=10.11.0->typer<1.0,>=0.12->gradio) (4.0.0)\n",
            "Requirement already satisfied: pygments<3.0.0,>=2.13.0 in /usr/local/lib/python3.12/dist-packages (from rich>=10.11.0->typer<1.0,>=0.12->gradio) (2.19.2)\n",
            "Requirement already satisfied: charset_normalizer<4,>=2 in /usr/local/lib/python3.12/dist-packages (from requests->huggingface-hub<2.0,>=0.33.5->gradio) (3.4.4)\n",
            "Requirement already satisfied: urllib3<3,>=1.21.1 in /usr/local/lib/python3.12/dist-packages (from requests->huggingface-hub<2.0,>=0.33.5->gradio) (2.5.0)\n",
            "Requirement already satisfied: mdurl~=0.1 in /usr/local/lib/python3.12/dist-packages (from markdown-it-py>=2.2.0->rich>=10.11.0->typer<1.0,>=0.12->gradio) (0.1.2)\n",
            "It looks like you are running Gradio on a hosted Jupyter notebook, which requires `share=True`. Automatically setting `share=True` (you can turn this off by setting `share=False` in `launch()` explicitly).\n",
            "\n",
            "Colab notebook detected. To show errors in colab notebook, set debug=True in launch()\n",
            "* Running on public URL: https://5e4fa025cc71f3e252.gradio.live\n",
            "\n",
            "This share link expires in 1 week. For free permanent hosting and GPU upgrades, run `gradio deploy` from the terminal in the working directory to deploy to Hugging Face Spaces (https://huggingface.co/spaces)\n"
          ]
        },
        {
          "output_type": "display_data",
          "data": {
            "text/plain": [
              "<IPython.core.display.HTML object>"
            ],
            "text/html": [
              "<div><iframe src=\"https://5e4fa025cc71f3e252.gradio.live\" width=\"100%\" height=\"500\" allow=\"autoplay; camera; microphone; clipboard-read; clipboard-write;\" frameborder=\"0\" allowfullscreen></iframe></div>"
            ]
          },
          "metadata": {}
        },
        {
          "output_type": "execute_result",
          "data": {
            "text/plain": []
          },
          "metadata": {},
          "execution_count": 29
        }
      ]
    },
    {
      "cell_type": "code",
      "source": [],
      "metadata": {
        "id": "GBcjBJXhxkiG"
      },
      "execution_count": null,
      "outputs": []
    },
    {
      "cell_type": "code",
      "source": [],
      "metadata": {
        "id": "BbqVijwuxkfI"
      },
      "execution_count": null,
      "outputs": []
    },
    {
      "cell_type": "code",
      "source": [],
      "metadata": {
        "id": "M-Mtdx2ExkcR"
      },
      "execution_count": null,
      "outputs": []
    },
    {
      "cell_type": "code",
      "source": [],
      "metadata": {
        "id": "x-F6XzRHxkZZ"
      },
      "execution_count": null,
      "outputs": []
    },
    {
      "cell_type": "code",
      "source": [],
      "metadata": {
        "id": "08rdXn94xkWj"
      },
      "execution_count": null,
      "outputs": []
    },
    {
      "cell_type": "code",
      "source": [],
      "metadata": {
        "id": "HLWh54j9xkTn"
      },
      "execution_count": null,
      "outputs": []
    },
    {
      "cell_type": "code",
      "source": [],
      "metadata": {
        "id": "sG4vgIUXxkQe"
      },
      "execution_count": null,
      "outputs": []
    },
    {
      "cell_type": "code",
      "source": [],
      "metadata": {
        "id": "UUCnYlLQxkNe"
      },
      "execution_count": null,
      "outputs": []
    },
    {
      "cell_type": "code",
      "source": [],
      "metadata": {
        "id": "1y9EGLY7xkK2"
      },
      "execution_count": null,
      "outputs": []
    },
    {
      "cell_type": "code",
      "source": [],
      "metadata": {
        "id": "zz0w4H7HxkH9"
      },
      "execution_count": null,
      "outputs": []
    },
    {
      "cell_type": "code",
      "source": [],
      "metadata": {
        "id": "zlDti1F_xkFf"
      },
      "execution_count": null,
      "outputs": []
    },
    {
      "cell_type": "code",
      "source": [],
      "metadata": {
        "id": "niILCG5BkecS"
      },
      "execution_count": 10,
      "outputs": []
    }
  ]
}